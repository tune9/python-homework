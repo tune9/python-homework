{
 "cells": [
  {
   "cell_type": "code",
   "execution_count": 6,
   "id": "6882c245-cce7-4eb9-bbdd-712c5397e4cd",
   "metadata": {},
   "outputs": [
    {
     "name": "stdout",
     "output_type": "stream",
     "text": [
      "current working directory: /Users/tundehambolu/python-homework/PyBank\n"
     ]
    },
    {
     "ename": "FileNotFoundError",
     "evalue": "[Errno 2] No such file or directory: '../NU-VIRT-FIN-PT-02-2022-U-LOL/02-Homework/02-Python/Instructions/Pybank/Resources/budget_data.csv'",
     "output_type": "error",
     "traceback": [
      "\u001b[0;31m---------------------------------------------------------------------------\u001b[0m",
      "\u001b[0;31mFileNotFoundError\u001b[0m                         Traceback (most recent call last)",
      "\u001b[0;32m/var/folders/7m/rmdlbkmj3zz16021d8zr31yw0000gn/T/ipykernel_29772/2836945570.py\u001b[0m in \u001b[0;36m<module>\u001b[0;34m\u001b[0m\n\u001b[1;32m     21\u001b[0m \u001b[0mfilepath\u001b[0m \u001b[0;34m=\u001b[0m \u001b[0mPath\u001b[0m\u001b[0;34m(\u001b[0m\u001b[0;34m\"../NU-VIRT-FIN-PT-02-2022-U-LOL/02-Homework/02-Python/Instructions/Pybank/Resources/budget_data.csv\"\u001b[0m\u001b[0;34m)\u001b[0m\u001b[0;34m\u001b[0m\u001b[0;34m\u001b[0m\u001b[0m\n\u001b[1;32m     22\u001b[0m \u001b[0;34m\u001b[0m\u001b[0m\n\u001b[0;32m---> 23\u001b[0;31m \u001b[0;32mwith\u001b[0m \u001b[0mopen\u001b[0m \u001b[0;34m(\u001b[0m\u001b[0mfilepath\u001b[0m\u001b[0;34m,\u001b[0m \u001b[0;34m'r'\u001b[0m\u001b[0;34m)\u001b[0m \u001b[0;32mas\u001b[0m \u001b[0mfile\u001b[0m\u001b[0;34m:\u001b[0m\u001b[0;34m\u001b[0m\u001b[0;34m\u001b[0m\u001b[0m\n\u001b[0m\u001b[1;32m     24\u001b[0m \u001b[0;34m\u001b[0m\u001b[0m\n\u001b[1;32m     25\u001b[0m     \u001b[0mline_num\u001b[0m \u001b[0;34m=\u001b[0m \u001b[0;36m1\u001b[0m\u001b[0;34m\u001b[0m\u001b[0;34m\u001b[0m\u001b[0m\n",
      "\u001b[0;31mFileNotFoundError\u001b[0m: [Errno 2] No such file or directory: '../NU-VIRT-FIN-PT-02-2022-U-LOL/02-Homework/02-Python/Instructions/Pybank/Resources/budget_data.csv'"
     ]
    }
   ],
   "source": [
    "# PyBank Assignment \n",
    "'''\n",
    "In this activity, you are tasked with creating a Python script for analyzing the financial records of your company. You will be provided with a financial dataset in this file: [budget_data.csv](PyBank/Resources/budget_data.csv). This dataset is composed of two columns, Date and Profit/Losses. (Thankfully, your company has rather lax standards for accounting, so the records are simple.)\n",
    "\n",
    "Your task is to create a Python script that analyzes the records to calculate each of the following:\n",
    "\n",
    "* The total number of months included in the dataset.\n",
    "\n",
    "* The net total amount of Profit/Losses over the entire period.\n",
    "\n",
    "* The average of the changes in Profit/Losses over the entire period.\n",
    "\n",
    "* The greatest increase in profits (date and amount) over the entire period.\n",
    "\n",
    "* The greatest decrease in losses (date and amount) over the entire period.\n",
    "'''\n",
    "\n",
    "from pathlib import Path \n",
    "print (f\"current working directory: {Path.cwd()}\")\n",
    "\n",
    "filepath = Path(\"../NU-VIRT-FIN-PT-02-2022-U-LOL/02-Homework/02-Python/Instructions/Pybank/Resources/budget_data.csv\")\n",
    "\n",
    "with open (filepath, 'r') as file:\n",
    "    \n",
    "    line_num = 1\n",
    "    for line in file: \n",
    "        print(f\"line {line_num}: {line}\")\n",
    "        line_num += 1\n",
    "\n",
    "\n",
    "\n"
   ]
  },
  {
   "cell_type": "code",
   "execution_count": null,
   "id": "e7440092-e4dd-4317-b24c-9fb51e6f1acc",
   "metadata": {},
   "outputs": [],
   "source": []
  }
 ],
 "metadata": {
  "kernelspec": {
   "display_name": "Python 3 (ipykernel)",
   "language": "python",
   "name": "python3"
  },
  "language_info": {
   "codemirror_mode": {
    "name": "ipython",
    "version": 3
   },
   "file_extension": ".py",
   "mimetype": "text/x-python",
   "name": "python",
   "nbconvert_exporter": "python",
   "pygments_lexer": "ipython3",
   "version": "3.7.11"
  }
 },
 "nbformat": 4,
 "nbformat_minor": 5
}
