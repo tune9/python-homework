{
 "cells": [
  {
   "cell_type": "code",
   "execution_count": null,
   "id": "9b9c097e-8114-4181-a4e4-521664b98513",
   "metadata": {},
   "outputs": [],
   "source": [
    "    for x in menu:\n",
    "                item.append(menu[row_count2][0])\n",
    "                price.append(menu[row_count2][3])\n",
    "                cost.append(menu[row_count2][4])\n",
    "                \n",
    "            if menu_item[row_count] == item[row_count2]:\n",
    "                sales_report[sales[row_count][4]][\"01-count\"] += int(quantity[row_count])\n",
    "                sales_report[sales[row_count][4]][\"02-revenue\"] += int(price[row_count2])*int(quantity[row_count])\n",
    "                sales_report[sales[row_count][4]][\"03-cogs\"] += int(cost[row_count2])*int(quantity[row_count])\n",
    "                sales_report[sales[row_count][4]][\"04-profit\"] += profit*int(quantity[row_count])\n",
    "                \n",
    "            else: \n",
    "                #print(f\"{menu_item[row_count]} does not equal {item[row_count2]}! NO MATCH!\")\n",
    "            \n",
    "                row_count2+=1\n",
    "        "
   ]
  }
 ],
 "metadata": {
  "kernelspec": {
   "display_name": "Python 3 (ipykernel)",
   "language": "python",
   "name": "python3"
  },
  "language_info": {
   "codemirror_mode": {
    "name": "ipython",
    "version": 3
   },
   "file_extension": ".py",
   "mimetype": "text/x-python",
   "name": "python",
   "nbconvert_exporter": "python",
   "pygments_lexer": "ipython3",
   "version": "3.7.11"
  }
 },
 "nbformat": 4,
 "nbformat_minor": 5
}
